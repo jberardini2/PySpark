{
  "nbformat": 4,
  "nbformat_minor": 0,
  "metadata": {
    "colab": {
      "provenance": [],
      "toc_visible": true,
      "include_colab_link": true
    },
    "kernelspec": {
      "name": "python3",
      "display_name": "Python 3"
    }
  },
  "cells": [
    {
      "cell_type": "markdown",
      "metadata": {
        "id": "view-in-github",
        "colab_type": "text"
      },
      "source": [
        "<a href=\"https://colab.research.google.com/github/jberardini2/PySpark/blob/main/PySpark_and_Logistic_Regression.ipynb\" target=\"_parent\"><img src=\"https://colab.research.google.com/assets/colab-badge.svg\" alt=\"Open In Colab\"/></a>"
      ]
    },
    {
      "cell_type": "markdown",
      "source": [
        "* **This document demonstrates Setting up PySpark, executing PySpark queries, creating a PySpark Logistic Regression model, and also intrepreting the confusion matrix and classification report.**"
      ],
      "metadata": {
        "id": "lKfsmIeNYYNh"
      }
    },
    {
      "cell_type": "markdown",
      "source": [
        "## Utilize Spark's Machine Learning Library to build classification models for prediction."
      ],
      "metadata": {
        "id": "bSweDY13mLTm"
      }
    },
    {
      "cell_type": "markdown",
      "metadata": {
        "id": "l0phSUcqjMs4"
      },
      "source": [
        "A few key concepts that we will revisit in this walk-through are:\n",
        "\n",
        "1. Apply String Indexer method to find the index of the categorical columns\n",
        "\n",
        "2. Apply OneHot encoding for the categorical columns\n",
        "\n",
        "3. Apply String indexer for the output variable “label” column\n",
        "\n",
        "4. VectorAssembler is applied for both categorical columns and numeric columns. VectorAssembler is a transformer that combines a given list of columns into a single vector column."
      ]
    },
    {
      "cell_type": "markdown",
      "metadata": {
        "id": "vTrb_YsFDVsT"
      },
      "source": [
        "### **Step 1**: Install Spark and use existing Java in Colab environment"
      ]
    },
    {
      "cell_type": "code",
      "metadata": {
        "id": "4oa8AbDud3t2"
      },
      "source": [
        "import os as os\n"
      ],
      "execution_count": 1,
      "outputs": []
    },
    {
      "cell_type": "code",
      "source": [
        "# Using existing Java provided by Colab -  Curently, /usr/lib/jvm/java-11-openjdk-amd64\n",
        "# !sudo apt update\n",
        "\n",
        "# Download and install Java if needed.\n",
        "#!sudo apt-get install openjdk-8-jdk-headless -qq > /dev/null"
      ],
      "metadata": {
        "id": "r1E2xxvrmsn8"
      },
      "execution_count": 2,
      "outputs": []
    },
    {
      "cell_type": "code",
      "source": [
        "# Current default directory from Colab.  THe Spark installation file will go here:\n",
        "os. getcwd()"
      ],
      "metadata": {
        "colab": {
          "base_uri": "https://localhost:8080/",
          "height": 36
        },
        "id": "qvLLXWbYms_1",
        "outputId": "bfee2069-766c-482b-adc4-1375c4b03b30"
      },
      "execution_count": 3,
      "outputs": [
        {
          "output_type": "execute_result",
          "data": {
            "text/plain": [
              "'/content'"
            ],
            "application/vnd.google.colaboratory.intrinsic+json": {
              "type": "string"
            }
          },
          "metadata": {},
          "execution_count": 3
        }
      ]
    },
    {
      "cell_type": "code",
      "source": [
        "# Install Apache Spark 3.2.4 with Hadoop 3.2 within the Colab environment:\n",
        "!wget -nc -q https://downloads.apache.org/spark/spark-3.2.4/spark-3.2.4-bin-hadoop3.2.tgz"
      ],
      "metadata": {
        "id": "h3mofrKzmtR2"
      },
      "execution_count": 4,
      "outputs": []
    },
    {
      "cell_type": "code",
      "source": [
        "# Unzip the folder\n",
        "!tar xf  spark-3.2.4-bin-hadoop3.2.tgz"
      ],
      "metadata": {
        "id": "Kpj3K7zTmtj4"
      },
      "execution_count": 5,
      "outputs": []
    },
    {
      "cell_type": "code",
      "source": [
        "# Install findspark library that will locate Spark on the system\n",
        "!pip install -q findspark"
      ],
      "metadata": {
        "id": "pihf-eijmty6"
      },
      "execution_count": 6,
      "outputs": []
    },
    {
      "cell_type": "code",
      "source": [
        "# Setting the environment variables - verify the paths are correct in Colab: ( Periodically, a new version path will need to update environment variable.)\n",
        "import os\n",
        "os.environ[\"JAVA_HOME\"] = \"/usr/lib/jvm/java-11-openjdk-amd64\"\n",
        "os.environ[\"SPARK_HOME\"] = \"/content/spark-3.2.4-bin-hadoop3.2\""
      ],
      "metadata": {
        "id": "zb__8GwJnd5-"
      },
      "execution_count": 7,
      "outputs": []
    },
    {
      "cell_type": "code",
      "metadata": {
        "id": "75i_k4uceE1b"
      },
      "source": [
        "import findspark\n",
        "findspark.init()"
      ],
      "execution_count": 8,
      "outputs": []
    },
    {
      "cell_type": "code",
      "metadata": {
        "id": "dDgFu5_9eWQp"
      },
      "source": [
        "# Create a Spark Session\n",
        "from pyspark.sql import SparkSession\n",
        "\n",
        "# Create spark session\n",
        "spark = SparkSession.builder.getOrCreate()"
      ],
      "execution_count": 9,
      "outputs": []
    },
    {
      "cell_type": "code",
      "metadata": {
        "id": "T2GIH4gDebm-"
      },
      "source": [
        "sc = spark.sparkContext"
      ],
      "execution_count": 10,
      "outputs": []
    },
    {
      "cell_type": "markdown",
      "metadata": {
        "id": "aoD2D6UKDwfT"
      },
      "source": [
        "### **Step 2**: Read in Data from Google Drive"
      ]
    },
    {
      "cell_type": "code",
      "source": [
        "# Load the Drive helper and mount\n",
        "from google.colab import drive\n",
        "\n",
        "# This will prompt for authorization.\n",
        "drive.mount('/content/drive')"
      ],
      "metadata": {
        "colab": {
          "base_uri": "https://localhost:8080/"
        },
        "id": "gtZOSiuQi0Z1",
        "outputId": "2d43ac1a-f23a-40ef-c274-7b06d832adc7"
      },
      "execution_count": 11,
      "outputs": [
        {
          "output_type": "stream",
          "name": "stdout",
          "text": [
            "Drive already mounted at /content/drive; to attempt to forcibly remount, call drive.mount(\"/content/drive\", force_remount=True).\n"
          ]
        }
      ]
    },
    {
      "cell_type": "code",
      "metadata": {
        "id": "K5QyIgsFekRW"
      },
      "source": [
        "# df = spark.read.csv(SparkFiles.get(\"adult_data.csv\"), header=True, inferSchema= True)\n",
        "df = spark.read.option(\"header\", \"true\").csv(\"/content/drive/My Drive/Education/Big Data/adult.csv\")"
      ],
      "execution_count": 12,
      "outputs": []
    },
    {
      "cell_type": "markdown",
      "metadata": {
        "id": "iie5xwGwENTq"
      },
      "source": [
        "### **Step 3**: Using SQL to interface with Spark"
      ]
    },
    {
      "cell_type": "code",
      "metadata": {
        "colab": {
          "base_uri": "https://localhost:8080/"
        },
        "id": "d0tNkToGfBKs",
        "outputId": "3cdcfc2e-b7d0-447b-f120-79b57404d5fc"
      },
      "source": [
        "df.printSchema()"
      ],
      "execution_count": 13,
      "outputs": [
        {
          "output_type": "stream",
          "name": "stdout",
          "text": [
            "root\n",
            " |-- x: string (nullable = true)\n",
            " |-- age: string (nullable = true)\n",
            " |-- workclass: string (nullable = true)\n",
            " |-- fnlwgt: string (nullable = true)\n",
            " |-- education: string (nullable = true)\n",
            " |-- educationalNum: string (nullable = true)\n",
            " |-- maritalStatus: string (nullable = true)\n",
            " |-- occupation: string (nullable = true)\n",
            " |-- relationship: string (nullable = true)\n",
            " |-- race: string (nullable = true)\n",
            " |-- gender: string (nullable = true)\n",
            " |-- capitalGain: string (nullable = true)\n",
            " |-- capitalLoss: string (nullable = true)\n",
            " |-- hoursPerWeek: string (nullable = true)\n",
            " |-- nativeCountry: string (nullable = true)\n",
            " |-- income: string (nullable = true)\n",
            "\n"
          ]
        }
      ]
    },
    {
      "cell_type": "code",
      "metadata": {
        "colab": {
          "base_uri": "https://localhost:8080/"
        },
        "id": "53C-0DeBFwNF",
        "outputId": "9fb2bcd0-0829-4e6a-b725-96ea0c3f8680"
      },
      "source": [
        "df.show()"
      ],
      "execution_count": 14,
      "outputs": [
        {
          "output_type": "stream",
          "name": "stdout",
          "text": [
            "+---+---+----------------+------+------------+--------------+------------------+-----------------+-------------+------------------+------+-----------+-----------+------------+-------------+------+\n",
            "|  x|age|       workclass|fnlwgt|   education|educationalNum|     maritalStatus|       occupation| relationship|              race|gender|capitalGain|capitalLoss|hoursPerWeek|nativeCountry|income|\n",
            "+---+---+----------------+------+------------+--------------+------------------+-----------------+-------------+------------------+------+-----------+-----------+------------+-------------+------+\n",
            "|  1| 25|         Private|226802|        11th|             7|     Never-married|Machine-op-inspct|    Own-child|             Black|  Male|          0|          0|          40|United-States| <=50K|\n",
            "|  2| 38|         Private| 89814|     HS-grad|             9|Married-civ-spouse|  Farming-fishing|      Husband|             White|  Male|          0|          0|          50|United-States| <=50K|\n",
            "|  3| 28|       Local-gov|336951|  Assoc-acdm|            12|Married-civ-spouse|  Protective-serv|      Husband|             White|  Male|          0|          0|          40|United-States|  >50K|\n",
            "|  4| 44|         Private|160323|Some-college|            10|Married-civ-spouse|Machine-op-inspct|      Husband|             Black|  Male|       7688|          0|          40|United-States|  >50K|\n",
            "|  5| 18|               ?|103497|Some-college|            10|     Never-married|                ?|    Own-child|             White|Female|          0|          0|          30|United-States| <=50K|\n",
            "|  6| 34|         Private|198693|        10th|             6|     Never-married|    Other-service|Not-in-family|             White|  Male|          0|          0|          30|United-States| <=50K|\n",
            "|  7| 29|               ?|227026|     HS-grad|             9|     Never-married|                ?|    Unmarried|             Black|  Male|          0|          0|          40|United-States| <=50K|\n",
            "|  8| 63|Self-emp-not-inc|104626| Prof-school|            15|Married-civ-spouse|   Prof-specialty|      Husband|             White|  Male|       3103|          0|          32|United-States|  >50K|\n",
            "|  9| 24|         Private|369667|Some-college|            10|     Never-married|    Other-service|    Unmarried|             White|Female|          0|          0|          40|United-States| <=50K|\n",
            "| 10| 55|         Private|104996|     7th-8th|             4|Married-civ-spouse|     Craft-repair|      Husband|             White|  Male|          0|          0|          10|United-States| <=50K|\n",
            "| 11| 65|         Private|184454|     HS-grad|             9|Married-civ-spouse|Machine-op-inspct|      Husband|             White|  Male|       6418|          0|          40|United-States|  >50K|\n",
            "| 12| 36|     Federal-gov|212465|   Bachelors|            13|Married-civ-spouse|     Adm-clerical|      Husband|             White|  Male|          0|          0|          40|United-States| <=50K|\n",
            "| 13| 26|         Private| 82091|     HS-grad|             9|     Never-married|     Adm-clerical|Not-in-family|             White|Female|          0|          0|          39|United-States| <=50K|\n",
            "| 14| 58|               ?|299831|     HS-grad|             9|Married-civ-spouse|                ?|      Husband|             White|  Male|          0|          0|          35|United-States| <=50K|\n",
            "| 15| 48|         Private|279724|     HS-grad|             9|Married-civ-spouse|Machine-op-inspct|      Husband|             White|  Male|       3103|          0|          48|United-States|  >50K|\n",
            "| 16| 43|         Private|346189|     Masters|            14|Married-civ-spouse|  Exec-managerial|      Husband|             White|  Male|          0|          0|          50|United-States|  >50K|\n",
            "| 17| 20|       State-gov|444554|Some-college|            10|     Never-married|    Other-service|    Own-child|             White|  Male|          0|          0|          25|United-States| <=50K|\n",
            "| 18| 43|         Private|128354|     HS-grad|             9|Married-civ-spouse|     Adm-clerical|         Wife|             White|Female|          0|          0|          30|United-States| <=50K|\n",
            "| 19| 37|         Private| 60548|     HS-grad|             9|           Widowed|Machine-op-inspct|    Unmarried|             White|Female|          0|          0|          20|United-States| <=50K|\n",
            "| 20| 40|         Private| 85019|   Doctorate|            16|Married-civ-spouse|   Prof-specialty|      Husband|Asian-Pac-Islander|  Male|          0|          0|          45|            ?|  >50K|\n",
            "+---+---+----------------+------+------------+--------------+------------------+-----------------+-------------+------------------+------+-----------+-----------+------------+-------------+------+\n",
            "only showing top 20 rows\n",
            "\n"
          ]
        }
      ]
    },
    {
      "cell_type": "markdown",
      "source": [
        "### **Step 4**: Create a temporary view and query with SQL commands."
      ],
      "metadata": {
        "id": "mfZBgm-DmxFi"
      }
    },
    {
      "cell_type": "code",
      "source": [
        "# Creating a view for SQL commands called Adult Data.\n",
        "df.createOrReplaceTempView(\"adultView\")"
      ],
      "metadata": {
        "id": "Zs9QkAcBmm9Q"
      },
      "execution_count": 15,
      "outputs": []
    },
    {
      "cell_type": "code",
      "source": [
        "# Select all where education contains college:\n",
        "sqlDF = spark.sql(\"SELECT * FROM adultView WHERE education like '%college%' \")\n",
        "sqlDF.show()"
      ],
      "metadata": {
        "colab": {
          "base_uri": "https://localhost:8080/"
        },
        "id": "sC8Zq-1PmnZ0",
        "outputId": "fc6c0b09-72cf-4752-c7b4-2dce9eb90333"
      },
      "execution_count": 16,
      "outputs": [
        {
          "output_type": "stream",
          "name": "stdout",
          "text": [
            "+---+---+----------------+------+------------+--------------+------------------+-----------------+-------------+-----+------+-----------+-----------+------------+------------------+------+\n",
            "|  x|age|       workclass|fnlwgt|   education|educationalNum|     maritalStatus|       occupation| relationship| race|gender|capitalGain|capitalLoss|hoursPerWeek|     nativeCountry|income|\n",
            "+---+---+----------------+------+------------+--------------+------------------+-----------------+-------------+-----+------+-----------+-----------+------------+------------------+------+\n",
            "|  4| 44|         Private|160323|Some-college|            10|Married-civ-spouse|Machine-op-inspct|      Husband|Black|  Male|       7688|          0|          40|     United-States|  >50K|\n",
            "|  5| 18|               ?|103497|Some-college|            10|     Never-married|                ?|    Own-child|White|Female|          0|          0|          30|     United-States| <=50K|\n",
            "|  9| 24|         Private|369667|Some-college|            10|     Never-married|    Other-service|    Unmarried|White|Female|          0|          0|          40|     United-States| <=50K|\n",
            "| 17| 20|       State-gov|444554|Some-college|            10|     Never-married|    Other-service|    Own-child|White|  Male|          0|          0|          25|     United-States| <=50K|\n",
            "| 22| 34|         Private|238588|Some-college|            10|     Never-married|    Other-service|    Own-child|Black|Female|          0|          0|          35|     United-States| <=50K|\n",
            "| 30| 32|Self-emp-not-inc|109282|Some-college|            10|     Never-married|   Prof-specialty|Not-in-family|White|  Male|          0|          0|          60|     United-States| <=50K|\n",
            "| 31| 46|       State-gov|106444|Some-college|            10|Married-civ-spouse|  Exec-managerial|      Husband|Black|  Male|       7688|          0|          38|     United-States|  >50K|\n",
            "| 34| 23|       Local-gov|258120|Some-college|            10|Married-civ-spouse|  Protective-serv|      Husband|White|  Male|          0|          0|          40|     United-States| <=50K|\n",
            "| 45| 20|       State-gov|138371|Some-college|            10|     Never-married|  Farming-fishing|    Own-child|White|  Male|          0|          0|          32|     United-States| <=50K|\n",
            "| 48| 54|         Private|186272|Some-college|            10|Married-civ-spouse| Transport-moving|      Husband|White|  Male|       3908|          0|          50|     United-States| <=50K|\n",
            "| 51| 18|         Private| 54440|Some-college|            10|     Never-married|    Other-service|    Own-child|White|  Male|          0|          0|          20|     United-States| <=50K|\n",
            "| 53| 21|         Private|214399|Some-college|            10|     Never-married|    Other-service|    Own-child|White|Female|          0|       1721|          24|     United-States| <=50K|\n",
            "| 56| 21|         Private|110677|Some-college|            10|     Never-married|     Adm-clerical|    Own-child|White|Female|          0|          0|          40|     United-States| <=50K|\n",
            "| 62| 39|         Private|118429|Some-college|            10|          Divorced|            Sales|Not-in-family|White|  Male|          0|          0|          40|     United-States| <=50K|\n",
            "| 68| 19|         Private|105460|Some-college|            10|     Never-married|    Other-service|    Own-child|White|  Male|          0|          0|          20|     United-States| <=50K|\n",
            "| 71| 55|         Private|323887|Some-college|            10|Married-civ-spouse|  Exec-managerial|      Husband|White|  Male|      15024|          0|          45|     United-States|  >50K|\n",
            "| 74| 21|         Private|388946|Some-college|            10|         Separated|Handlers-cleaners|Not-in-family|White|Female|          0|          0|          40|     United-States| <=50K|\n",
            "| 75| 46|         Private|269034|Some-college|            10|Married-civ-spouse|     Craft-repair|      Husband|Other|  Male|          0|          0|          40|Dominican-Republic| <=50K|\n",
            "| 80| 20|         Private| 72055|Some-college|            10|     Never-married|     Adm-clerical|Not-in-family|White|Female|          0|          0|          40|     United-States| <=50K|\n",
            "| 81| 45|    Self-emp-inc| 67001|Some-college|            10|Married-civ-spouse|Machine-op-inspct|      Husband|White|  Male|          0|          0|          50|     United-States| <=50K|\n",
            "+---+---+----------------+------+------------+--------------+------------------+-----------------+-------------+-----+------+-----------+-----------+------------+------------------+------+\n",
            "only showing top 20 rows\n",
            "\n"
          ]
        }
      ]
    },
    {
      "cell_type": "code",
      "source": [
        "print (type(sqlDF))"
      ],
      "metadata": {
        "colab": {
          "base_uri": "https://localhost:8080/"
        },
        "id": "7h_GcoZMrraZ",
        "outputId": "5ff6dfe4-0358-4b2d-9939-b484cf1f6b91"
      },
      "execution_count": 17,
      "outputs": [
        {
          "output_type": "stream",
          "name": "stdout",
          "text": [
            "<class 'pyspark.sql.dataframe.DataFrame'>\n"
          ]
        }
      ]
    },
    {
      "cell_type": "code",
      "source": [
        "# Filter the data frame so that only records where the hours-per-week is greater than 30."
      ],
      "metadata": {
        "id": "mOYzaz5RqPO3"
      },
      "execution_count": 18,
      "outputs": []
    },
    {
      "cell_type": "code",
      "source": [
        "df.printSchema()"
      ],
      "metadata": {
        "colab": {
          "base_uri": "https://localhost:8080/"
        },
        "id": "ao6WhuvRwJtO",
        "outputId": "75b2cf8e-a393-4bd3-a141-d80691aa32ae"
      },
      "execution_count": 19,
      "outputs": [
        {
          "output_type": "stream",
          "name": "stdout",
          "text": [
            "root\n",
            " |-- x: string (nullable = true)\n",
            " |-- age: string (nullable = true)\n",
            " |-- workclass: string (nullable = true)\n",
            " |-- fnlwgt: string (nullable = true)\n",
            " |-- education: string (nullable = true)\n",
            " |-- educationalNum: string (nullable = true)\n",
            " |-- maritalStatus: string (nullable = true)\n",
            " |-- occupation: string (nullable = true)\n",
            " |-- relationship: string (nullable = true)\n",
            " |-- race: string (nullable = true)\n",
            " |-- gender: string (nullable = true)\n",
            " |-- capitalGain: string (nullable = true)\n",
            " |-- capitalLoss: string (nullable = true)\n",
            " |-- hoursPerWeek: string (nullable = true)\n",
            " |-- nativeCountry: string (nullable = true)\n",
            " |-- income: string (nullable = true)\n",
            "\n"
          ]
        }
      ]
    },
    {
      "cell_type": "code",
      "source": [
        "\n",
        "# Refine further by selecting where hours per week is greater than 30:\n",
        "sqlDF.filter(\"hoursPerWeek > 30\").show()"
      ],
      "metadata": {
        "colab": {
          "base_uri": "https://localhost:8080/"
        },
        "id": "mAg7UErXmnpM",
        "outputId": "31db2f07-1427-43aa-b170-9d088fd5aea7"
      },
      "execution_count": 20,
      "outputs": [
        {
          "output_type": "stream",
          "name": "stdout",
          "text": [
            "+---+---+----------------+------+------------+--------------+------------------+-----------------+-------------+-----+------+-----------+-----------+------------+------------------+------+\n",
            "|  x|age|       workclass|fnlwgt|   education|educationalNum|     maritalStatus|       occupation| relationship| race|gender|capitalGain|capitalLoss|hoursPerWeek|     nativeCountry|income|\n",
            "+---+---+----------------+------+------------+--------------+------------------+-----------------+-------------+-----+------+-----------+-----------+------------+------------------+------+\n",
            "|  4| 44|         Private|160323|Some-college|            10|Married-civ-spouse|Machine-op-inspct|      Husband|Black|  Male|       7688|          0|          40|     United-States|  >50K|\n",
            "|  9| 24|         Private|369667|Some-college|            10|     Never-married|    Other-service|    Unmarried|White|Female|          0|          0|          40|     United-States| <=50K|\n",
            "| 22| 34|         Private|238588|Some-college|            10|     Never-married|    Other-service|    Own-child|Black|Female|          0|          0|          35|     United-States| <=50K|\n",
            "| 30| 32|Self-emp-not-inc|109282|Some-college|            10|     Never-married|   Prof-specialty|Not-in-family|White|  Male|          0|          0|          60|     United-States| <=50K|\n",
            "| 31| 46|       State-gov|106444|Some-college|            10|Married-civ-spouse|  Exec-managerial|      Husband|Black|  Male|       7688|          0|          38|     United-States|  >50K|\n",
            "| 34| 23|       Local-gov|258120|Some-college|            10|Married-civ-spouse|  Protective-serv|      Husband|White|  Male|          0|          0|          40|     United-States| <=50K|\n",
            "| 45| 20|       State-gov|138371|Some-college|            10|     Never-married|  Farming-fishing|    Own-child|White|  Male|          0|          0|          32|     United-States| <=50K|\n",
            "| 48| 54|         Private|186272|Some-college|            10|Married-civ-spouse| Transport-moving|      Husband|White|  Male|       3908|          0|          50|     United-States| <=50K|\n",
            "| 56| 21|         Private|110677|Some-college|            10|     Never-married|     Adm-clerical|    Own-child|White|Female|          0|          0|          40|     United-States| <=50K|\n",
            "| 62| 39|         Private|118429|Some-college|            10|          Divorced|            Sales|Not-in-family|White|  Male|          0|          0|          40|     United-States| <=50K|\n",
            "| 71| 55|         Private|323887|Some-college|            10|Married-civ-spouse|  Exec-managerial|      Husband|White|  Male|      15024|          0|          45|     United-States|  >50K|\n",
            "| 74| 21|         Private|388946|Some-college|            10|         Separated|Handlers-cleaners|Not-in-family|White|Female|          0|          0|          40|     United-States| <=50K|\n",
            "| 75| 46|         Private|269034|Some-college|            10|Married-civ-spouse|     Craft-repair|      Husband|Other|  Male|          0|          0|          40|Dominican-Republic| <=50K|\n",
            "| 80| 20|         Private| 72055|Some-college|            10|     Never-married|     Adm-clerical|Not-in-family|White|Female|          0|          0|          40|     United-States| <=50K|\n",
            "| 81| 45|    Self-emp-inc| 67001|Some-college|            10|Married-civ-spouse|Machine-op-inspct|      Husband|White|  Male|          0|          0|          50|     United-States| <=50K|\n",
            "| 83| 24|         Private| 83141|Some-college|            10|         Separated|    Other-service|Not-in-family|White|  Male|          0|       1876|          40|     United-States| <=50K|\n",
            "| 85| 31|Self-emp-not-inc|113752|Some-college|            10|Married-civ-spouse|     Craft-repair|      Husband|White|  Male|          0|          0|          50|     United-States| <=50K|\n",
            "| 89| 24|     Federal-gov|228724|Some-college|            10|     Never-married|     Armed-Forces|Not-in-family|White|  Male|          0|          0|          40|     United-States| <=50K|\n",
            "|102| 33|         Private|202191|Some-college|            10|     Never-married|     Adm-clerical|    Unmarried|Black|Female|          0|          0|          35|     United-States| <=50K|\n",
            "|103| 22|         Private|212261|Some-college|            10|     Never-married| Transport-moving|    Own-child|Black|  Male|          0|          0|          39|     United-States| <=50K|\n",
            "+---+---+----------------+------+------------+--------------+------------------+-----------------+-------------+-----+------+-----------+-----------+------------+------------------+------+\n",
            "only showing top 20 rows\n",
            "\n"
          ]
        }
      ]
    },
    {
      "cell_type": "code",
      "source": [
        "# Cast\n",
        "sqlDF = sqlDF.withColumn(\"hoursPerWeek\", sqlDF.hoursPerWeek.cast('Float'))"
      ],
      "metadata": {
        "id": "mtczsh9m17WK"
      },
      "execution_count": 21,
      "outputs": []
    },
    {
      "cell_type": "code",
      "source": [
        "sqlDF.printSchema()"
      ],
      "metadata": {
        "colab": {
          "base_uri": "https://localhost:8080/"
        },
        "id": "Lh9IPM2o2WxY",
        "outputId": "87b53180-d325-4134-8feb-3d0b101b9ecf"
      },
      "execution_count": 22,
      "outputs": [
        {
          "output_type": "stream",
          "name": "stdout",
          "text": [
            "root\n",
            " |-- x: string (nullable = true)\n",
            " |-- age: string (nullable = true)\n",
            " |-- workclass: string (nullable = true)\n",
            " |-- fnlwgt: string (nullable = true)\n",
            " |-- education: string (nullable = true)\n",
            " |-- educationalNum: string (nullable = true)\n",
            " |-- maritalStatus: string (nullable = true)\n",
            " |-- occupation: string (nullable = true)\n",
            " |-- relationship: string (nullable = true)\n",
            " |-- race: string (nullable = true)\n",
            " |-- gender: string (nullable = true)\n",
            " |-- capitalGain: string (nullable = true)\n",
            " |-- capitalLoss: string (nullable = true)\n",
            " |-- hoursPerWeek: float (nullable = true)\n",
            " |-- nativeCountry: string (nullable = true)\n",
            " |-- income: string (nullable = true)\n",
            "\n"
          ]
        }
      ]
    },
    {
      "cell_type": "code",
      "source": [
        "# Display average hours per week for each work class:\n",
        "sqlDF.groupBy(\"workclass\").avg(\"hoursPerWeek\").show()"
      ],
      "metadata": {
        "colab": {
          "base_uri": "https://localhost:8080/"
        },
        "id": "h2Jnwat61sHh",
        "outputId": "df45dbbf-5067-4198-a5df-1ef248df2353"
      },
      "execution_count": 23,
      "outputs": [
        {
          "output_type": "stream",
          "name": "stdout",
          "text": [
            "+----------------+------------------+\n",
            "|       workclass| avg(hoursPerWeek)|\n",
            "+----------------+------------------+\n",
            "|Self-emp-not-inc|44.255524861878456|\n",
            "|       Local-gov|  40.3106960950764|\n",
            "|       State-gov| 35.30408163265306|\n",
            "|         Private| 38.78699402786994|\n",
            "|     Without-pay|35.333333333333336|\n",
            "|     Federal-gov| 40.23691460055097|\n",
            "|    Never-worked|              22.0|\n",
            "|               ?|31.557142857142857|\n",
            "|    Self-emp-inc| 48.71987951807229|\n",
            "+----------------+------------------+\n",
            "\n"
          ]
        }
      ]
    },
    {
      "cell_type": "code",
      "source": [
        "# Reviewing our dependent variable that we will be trying to predict.\n",
        "# Select all where education contains college:\n",
        "sqlDF_counts = spark.sql(\"SELECT COUNT(DISTINCT income) FROM adultView\")\n",
        "sqlDF_counts.show()"
      ],
      "metadata": {
        "colab": {
          "base_uri": "https://localhost:8080/"
        },
        "id": "OV6ueYNtBIsA",
        "outputId": "1fe4fc5c-1de3-448e-fa49-5f5f38b4c071"
      },
      "execution_count": 24,
      "outputs": [
        {
          "output_type": "stream",
          "name": "stdout",
          "text": [
            "+----------------------+\n",
            "|count(DISTINCT income)|\n",
            "+----------------------+\n",
            "|                     2|\n",
            "+----------------------+\n",
            "\n"
          ]
        }
      ]
    },
    {
      "cell_type": "code",
      "source": [
        "# Select all where education contains college:\n",
        "sqlDF_counts = spark.sql(\"SELECT COUNT(income) FROM adultView WHERE income = '>50K'\")\n",
        "sqlDF_counts.show()"
      ],
      "metadata": {
        "colab": {
          "base_uri": "https://localhost:8080/"
        },
        "id": "0ZxSt6XN_j_K",
        "outputId": "6dc041e3-6a60-4c3f-85a4-505c6c9e33ef"
      },
      "execution_count": 25,
      "outputs": [
        {
          "output_type": "stream",
          "name": "stdout",
          "text": [
            "+-------------+\n",
            "|count(income)|\n",
            "+-------------+\n",
            "|        11687|\n",
            "+-------------+\n",
            "\n"
          ]
        }
      ]
    },
    {
      "cell_type": "code",
      "source": [
        "# Select all where education contains college:\n",
        "sqlDF_counts = spark.sql(\"SELECT COUNT(income) FROM adultView WHERE income = '<=50K'\")\n",
        "sqlDF_counts.show()"
      ],
      "metadata": {
        "colab": {
          "base_uri": "https://localhost:8080/"
        },
        "outputId": "91e77673-ebc3-4991-da5b-53121ef35783",
        "id": "Wf66A6N8_ko0"
      },
      "execution_count": 26,
      "outputs": [
        {
          "output_type": "stream",
          "name": "stdout",
          "text": [
            "+-------------+\n",
            "|count(income)|\n",
            "+-------------+\n",
            "|        37155|\n",
            "+-------------+\n",
            "\n"
          ]
        }
      ]
    },
    {
      "cell_type": "code",
      "source": [],
      "metadata": {
        "id": "SHuhwH0NA3CE"
      },
      "execution_count": 26,
      "outputs": []
    },
    {
      "cell_type": "code",
      "source": [
        "# Import PySpark Fuctions for querying.\n",
        "import pyspark.sql.functions as functions\n",
        "\n",
        "# Standard deviation of hours per week by workclass.\n",
        "sqlDF.groupBy(\"workclass\").agg(functions.stddev(\"hoursPerWeek\")).show()"
      ],
      "metadata": {
        "colab": {
          "base_uri": "https://localhost:8080/"
        },
        "id": "KegQ0PUw7_2X",
        "outputId": "6c1b5e6b-e1f9-473d-ef83-1f06d538d2d2"
      },
      "execution_count": 27,
      "outputs": [
        {
          "output_type": "stream",
          "name": "stdout",
          "text": [
            "+----------------+-------------------------+\n",
            "|       workclass|stddev_samp(hoursPerWeek)|\n",
            "+----------------+-------------------------+\n",
            "|Self-emp-not-inc|       16.895240145027948|\n",
            "|       Local-gov|        11.48350951761517|\n",
            "|       State-gov|       13.648650789648785|\n",
            "|         Private|       11.740610430937776|\n",
            "|     Without-pay|       26.083200212652844|\n",
            "|     Federal-gov|        8.954091836683306|\n",
            "|    Never-worked|        25.45584412271571|\n",
            "|               ?|       13.618996458352091|\n",
            "|    Self-emp-inc|       14.946121645808361|\n",
            "+----------------+-------------------------+\n",
            "\n"
          ]
        }
      ]
    },
    {
      "cell_type": "markdown",
      "metadata": {
        "id": "w7Ab64IKEZMV"
      },
      "source": [
        "## Prepare data for Logistic Regression Model"
      ]
    },
    {
      "cell_type": "code",
      "metadata": {
        "id": "9_G9ddxbFO_e"
      },
      "source": [
        "# This is a function to convert dataframe columns to the appropriate data type.\n",
        "def convertColumn(df, names, newType):\n",
        "  for name in names:\n",
        "     df = df.withColumn(name, df[name].cast(newType))\n",
        "  return df"
      ],
      "execution_count": 28,
      "outputs": []
    },
    {
      "cell_type": "code",
      "metadata": {
        "id": "3oitXZU-InTM"
      },
      "source": [
        "# Assign all floats to `columns`.\n",
        "columns = ['age', 'fnlwgt','capitalGain', 'educationalNum', 'capitalLoss', 'hoursPerWeek']"
      ],
      "execution_count": 29,
      "outputs": []
    },
    {
      "cell_type": "markdown",
      "metadata": {
        "id": "SmOD6XyWFTxZ"
      },
      "source": [
        "### **Step 5**: Convert the data types of the above mentioned columns into a float type"
      ]
    },
    {
      "cell_type": "code",
      "metadata": {
        "id": "PnAjqyaVI9KV"
      },
      "source": [
        "from pyspark.sql.types import *\n",
        "# Conver the `df` columns to `FloatType()`\n",
        "df = convertColumn(df, columns, FloatType())"
      ],
      "execution_count": 30,
      "outputs": []
    },
    {
      "cell_type": "markdown",
      "metadata": {
        "id": "TEVrtaQjJbRK"
      },
      "source": [
        "### **Step 6**: Confirm that the data type has been converted into float"
      ]
    },
    {
      "cell_type": "code",
      "metadata": {
        "colab": {
          "base_uri": "https://localhost:8080/"
        },
        "id": "Cw5LNnmuJaMc",
        "outputId": "9acb70cb-b1c2-4073-eeea-e61bbfbbbf7d"
      },
      "source": [
        "df.dtypes"
      ],
      "execution_count": 31,
      "outputs": [
        {
          "output_type": "execute_result",
          "data": {
            "text/plain": [
              "[('x', 'string'),\n",
              " ('age', 'float'),\n",
              " ('workclass', 'string'),\n",
              " ('fnlwgt', 'float'),\n",
              " ('education', 'string'),\n",
              " ('educationalNum', 'float'),\n",
              " ('maritalStatus', 'string'),\n",
              " ('occupation', 'string'),\n",
              " ('relationship', 'string'),\n",
              " ('race', 'string'),\n",
              " ('gender', 'string'),\n",
              " ('capitalGain', 'float'),\n",
              " ('capitalLoss', 'float'),\n",
              " ('hoursPerWeek', 'float'),\n",
              " ('nativeCountry', 'string'),\n",
              " ('income', 'string')]"
            ]
          },
          "metadata": {},
          "execution_count": 31
        }
      ]
    },
    {
      "cell_type": "markdown",
      "metadata": {
        "id": "IKGhjGYgKJtM"
      },
      "source": [
        "### **Step 7**: Drop rows that have a '?' in them\n",
        "\n"
      ]
    },
    {
      "cell_type": "code",
      "metadata": {
        "colab": {
          "base_uri": "https://localhost:8080/"
        },
        "id": "zxyed8t_PzmQ",
        "outputId": "0e83d99d-daab-4f74-b47f-3bd0e3dc30cf"
      },
      "source": [
        "import numpy as np\n",
        "df = df.replace(\"?\", \"np.Nan\")\n",
        "\n",
        "# Remove missing value\n",
        "df = df.filter(\"workclass != 'np.Nan'\").filter(\"occupation != 'np.Nan'\").filter(\"`nativeCountry` != 'np.Nan'\")\n",
        "df.show()"
      ],
      "execution_count": 32,
      "outputs": [
        {
          "output_type": "stream",
          "name": "stdout",
          "text": [
            "+---+----+----------------+--------+------------+--------------+------------------+-----------------+-------------+-----+------+-----------+-----------+------------+-------------+------+\n",
            "|  x| age|       workclass|  fnlwgt|   education|educationalNum|     maritalStatus|       occupation| relationship| race|gender|capitalGain|capitalLoss|hoursPerWeek|nativeCountry|income|\n",
            "+---+----+----------------+--------+------------+--------------+------------------+-----------------+-------------+-----+------+-----------+-----------+------------+-------------+------+\n",
            "|  1|25.0|         Private|226802.0|        11th|           7.0|     Never-married|Machine-op-inspct|    Own-child|Black|  Male|        0.0|        0.0|        40.0|United-States| <=50K|\n",
            "|  2|38.0|         Private| 89814.0|     HS-grad|           9.0|Married-civ-spouse|  Farming-fishing|      Husband|White|  Male|        0.0|        0.0|        50.0|United-States| <=50K|\n",
            "|  3|28.0|       Local-gov|336951.0|  Assoc-acdm|          12.0|Married-civ-spouse|  Protective-serv|      Husband|White|  Male|        0.0|        0.0|        40.0|United-States|  >50K|\n",
            "|  4|44.0|         Private|160323.0|Some-college|          10.0|Married-civ-spouse|Machine-op-inspct|      Husband|Black|  Male|     7688.0|        0.0|        40.0|United-States|  >50K|\n",
            "|  6|34.0|         Private|198693.0|        10th|           6.0|     Never-married|    Other-service|Not-in-family|White|  Male|        0.0|        0.0|        30.0|United-States| <=50K|\n",
            "|  8|63.0|Self-emp-not-inc|104626.0| Prof-school|          15.0|Married-civ-spouse|   Prof-specialty|      Husband|White|  Male|     3103.0|        0.0|        32.0|United-States|  >50K|\n",
            "|  9|24.0|         Private|369667.0|Some-college|          10.0|     Never-married|    Other-service|    Unmarried|White|Female|        0.0|        0.0|        40.0|United-States| <=50K|\n",
            "| 10|55.0|         Private|104996.0|     7th-8th|           4.0|Married-civ-spouse|     Craft-repair|      Husband|White|  Male|        0.0|        0.0|        10.0|United-States| <=50K|\n",
            "| 11|65.0|         Private|184454.0|     HS-grad|           9.0|Married-civ-spouse|Machine-op-inspct|      Husband|White|  Male|     6418.0|        0.0|        40.0|United-States|  >50K|\n",
            "| 12|36.0|     Federal-gov|212465.0|   Bachelors|          13.0|Married-civ-spouse|     Adm-clerical|      Husband|White|  Male|        0.0|        0.0|        40.0|United-States| <=50K|\n",
            "| 13|26.0|         Private| 82091.0|     HS-grad|           9.0|     Never-married|     Adm-clerical|Not-in-family|White|Female|        0.0|        0.0|        39.0|United-States| <=50K|\n",
            "| 15|48.0|         Private|279724.0|     HS-grad|           9.0|Married-civ-spouse|Machine-op-inspct|      Husband|White|  Male|     3103.0|        0.0|        48.0|United-States|  >50K|\n",
            "| 16|43.0|         Private|346189.0|     Masters|          14.0|Married-civ-spouse|  Exec-managerial|      Husband|White|  Male|        0.0|        0.0|        50.0|United-States|  >50K|\n",
            "| 17|20.0|       State-gov|444554.0|Some-college|          10.0|     Never-married|    Other-service|    Own-child|White|  Male|        0.0|        0.0|        25.0|United-States| <=50K|\n",
            "| 18|43.0|         Private|128354.0|     HS-grad|           9.0|Married-civ-spouse|     Adm-clerical|         Wife|White|Female|        0.0|        0.0|        30.0|United-States| <=50K|\n",
            "| 19|37.0|         Private| 60548.0|     HS-grad|           9.0|           Widowed|Machine-op-inspct|    Unmarried|White|Female|        0.0|        0.0|        20.0|United-States| <=50K|\n",
            "| 21|34.0|         Private|107914.0|   Bachelors|          13.0|Married-civ-spouse|     Tech-support|      Husband|White|  Male|        0.0|        0.0|        47.0|United-States|  >50K|\n",
            "| 22|34.0|         Private|238588.0|Some-college|          10.0|     Never-married|    Other-service|    Own-child|Black|Female|        0.0|        0.0|        35.0|United-States| <=50K|\n",
            "| 24|25.0|         Private|220931.0|   Bachelors|          13.0|     Never-married|   Prof-specialty|Not-in-family|White|  Male|        0.0|        0.0|        43.0|         Peru| <=50K|\n",
            "| 25|25.0|         Private|205947.0|   Bachelors|          13.0|Married-civ-spouse|   Prof-specialty|      Husband|White|  Male|        0.0|        0.0|        40.0|United-States| <=50K|\n",
            "+---+----+----------------+--------+------------+--------------+------------------+-----------------+-------------+-----+------+-----------+-----------+------------+-------------+------+\n",
            "only showing top 20 rows\n",
            "\n"
          ]
        }
      ]
    },
    {
      "cell_type": "markdown",
      "metadata": {
        "id": "V5qQU4iXb0TH"
      },
      "source": [
        "### **Step 8:** Use \"StringIndexer\" and \"OneHotEncoding\" to convert categorical features into numeric values"
      ]
    },
    {
      "cell_type": "code",
      "metadata": {
        "id": "q8BHxHfpbyfg"
      },
      "source": [
        "from pyspark.ml.feature import StringIndexer\n",
        "from pyspark.ml.feature import OneHotEncoder\n",
        "from pyspark.ml.feature import VectorAssembler\n",
        "\n",
        "#Store all the categorical columns\n",
        "categorical_Cols = ['workclass', 'education', 'maritalStatus', 'occupation', 'relationship', 'race', 'gender', 'nativeCountry']\n",
        "pipeline_stages = []\n",
        "\n",
        "#Iterate throughthe categorical columns\n",
        "for categoricalCol in categorical_Cols :\n",
        "    stringIndexer = StringIndexer(inputCol = categoricalCol, outputCol = categoricalCol + '_Index')\n",
        "    encoder = OneHotEncoder(inputCols=[stringIndexer.getOutputCol()], outputCols=[categoricalCol + \"_conv\"])\n",
        "    pipeline_stages += [stringIndexer, encoder]\n",
        "\n",
        "label_stringIdx = StringIndexer(inputCol = 'income', outputCol = 'label')\n",
        "#Add another stage to the ML pipeline\n",
        "pipeline_stages += [label_stringIdx]\n",
        "\n",
        "#Store all the numeric columns\n",
        "numericCols = ['age', 'fnlwgt', 'capitalGain', 'capitalLoss', 'hoursPerWeek']\n",
        "assembler_Inputs = [c + \"_conv\" for c in categorical_Cols] + numericCols\n",
        "assembler = VectorAssembler(inputCols=assembler_Inputs, outputCol=\"features\")\n",
        "pipeline_stages += [assembler]"
      ],
      "execution_count": 33,
      "outputs": []
    },
    {
      "cell_type": "markdown",
      "metadata": {
        "id": "M0tA6Gn-dhgu"
      },
      "source": [
        "### **Step 9**: We use the ML Pipeline to chain multiple Transformers and Estimators together to create the maachine learning workflow."
      ]
    },
    {
      "cell_type": "code",
      "metadata": {
        "colab": {
          "base_uri": "https://localhost:8080/"
        },
        "id": "pnKETKICdpsH",
        "outputId": "7519ec2d-8960-4126-9bb3-240308abd92a"
      },
      "source": [
        "from pyspark.ml import Pipeline\n",
        "\n",
        "ml_pipe = Pipeline(stages = pipeline_stages)\n",
        "# Fit and transform the data\n",
        "pipe_data = ml_pipe.fit(df).transform(df)\n",
        "selectedCols = ['label', 'features'] + df.columns\n",
        "df = pipe_data.select(selectedCols)\n",
        "df.show()"
      ],
      "execution_count": 34,
      "outputs": [
        {
          "output_type": "stream",
          "name": "stdout",
          "text": [
            "+-----+--------------------+---+----+----------------+--------+------------+--------------+------------------+-----------------+-------------+-----+------+-----------+-----------+------------+-------------+------+\n",
            "|label|            features|  x| age|       workclass|  fnlwgt|   education|educationalNum|     maritalStatus|       occupation| relationship| race|gender|capitalGain|capitalLoss|hoursPerWeek|nativeCountry|income|\n",
            "+-----+--------------------+---+----+----------------+--------+------------+--------------+------------------+-----------------+-------------+-----+------+-----------+-----------+------------+-------------+------+\n",
            "|  0.0|(95,[0,11,22,33,4...|  1|25.0|         Private|226802.0|        11th|           7.0|     Never-married|Machine-op-inspct|    Own-child|Black|  Male|        0.0|        0.0|        40.0|United-States| <=50K|\n",
            "|  0.0|(95,[0,6,21,36,40...|  2|38.0|         Private| 89814.0|     HS-grad|           9.0|Married-civ-spouse|  Farming-fishing|      Husband|White|  Male|        0.0|        0.0|        50.0|United-States| <=50K|\n",
            "|  1.0|(95,[2,12,21,38,4...|  3|28.0|       Local-gov|336951.0|  Assoc-acdm|          12.0|Married-civ-spouse|  Protective-serv|      Husband|White|  Male|        0.0|        0.0|        40.0|United-States|  >50K|\n",
            "|  1.0|(95,[0,7,21,33,40...|  4|44.0|         Private|160323.0|Some-college|          10.0|Married-civ-spouse|Machine-op-inspct|      Husband|Black|  Male|     7688.0|        0.0|        40.0|United-States|  >50K|\n",
            "|  0.0|(95,[0,13,22,32,4...|  6|34.0|         Private|198693.0|        10th|           6.0|     Never-married|    Other-service|Not-in-family|White|  Male|        0.0|        0.0|        30.0|United-States| <=50K|\n",
            "|  1.0|(95,[1,15,21,28,4...|  8|63.0|Self-emp-not-inc|104626.0| Prof-school|          15.0|Married-civ-spouse|   Prof-specialty|      Husband|White|  Male|     3103.0|        0.0|        32.0|United-States|  >50K|\n",
            "|  0.0|(95,[0,7,22,32,43...|  9|24.0|         Private|369667.0|Some-college|          10.0|     Never-married|    Other-service|    Unmarried|White|Female|        0.0|        0.0|        40.0|United-States| <=50K|\n",
            "|  0.0|(95,[0,14,21,27,4...| 10|55.0|         Private|104996.0|     7th-8th|           4.0|Married-civ-spouse|     Craft-repair|      Husband|White|  Male|        0.0|        0.0|        10.0|United-States| <=50K|\n",
            "|  1.0|(95,[0,6,21,33,40...| 11|65.0|         Private|184454.0|     HS-grad|           9.0|Married-civ-spouse|Machine-op-inspct|      Husband|White|  Male|     6418.0|        0.0|        40.0|United-States|  >50K|\n",
            "|  0.0|(95,[5,8,21,30,40...| 12|36.0|     Federal-gov|212465.0|   Bachelors|          13.0|Married-civ-spouse|     Adm-clerical|      Husband|White|  Male|        0.0|        0.0|        40.0|United-States| <=50K|\n",
            "|  0.0|(95,[0,6,22,30,41...| 13|26.0|         Private| 82091.0|     HS-grad|           9.0|     Never-married|     Adm-clerical|Not-in-family|White|Female|        0.0|        0.0|        39.0|United-States| <=50K|\n",
            "|  1.0|(95,[0,6,21,33,40...| 15|48.0|         Private|279724.0|     HS-grad|           9.0|Married-civ-spouse|Machine-op-inspct|      Husband|White|  Male|     3103.0|        0.0|        48.0|United-States|  >50K|\n",
            "|  1.0|(95,[0,9,21,29,40...| 16|43.0|         Private|346189.0|     Masters|          14.0|Married-civ-spouse|  Exec-managerial|      Husband|White|  Male|        0.0|        0.0|        50.0|United-States|  >50K|\n",
            "|  0.0|(95,[3,7,22,32,42...| 17|20.0|       State-gov|444554.0|Some-college|          10.0|     Never-married|    Other-service|    Own-child|White|  Male|        0.0|        0.0|        25.0|United-States| <=50K|\n",
            "|  0.0|(95,[0,6,21,30,44...| 18|43.0|         Private|128354.0|     HS-grad|           9.0|Married-civ-spouse|     Adm-clerical|         Wife|White|Female|        0.0|        0.0|        30.0|United-States| <=50K|\n",
            "|  0.0|(95,[0,6,25,33,43...| 19|37.0|         Private| 60548.0|     HS-grad|           9.0|           Widowed|Machine-op-inspct|    Unmarried|White|Female|        0.0|        0.0|        20.0|United-States| <=50K|\n",
            "|  1.0|(95,[0,8,21,37,40...| 21|34.0|         Private|107914.0|   Bachelors|          13.0|Married-civ-spouse|     Tech-support|      Husband|White|  Male|        0.0|        0.0|        47.0|United-States|  >50K|\n",
            "|  0.0|(95,[0,7,22,32,42...| 22|34.0|         Private|238588.0|Some-college|          10.0|     Never-married|    Other-service|    Own-child|Black|Female|        0.0|        0.0|        35.0|United-States| <=50K|\n",
            "|  0.0|(95,[0,8,22,28,41...| 24|25.0|         Private|220931.0|   Bachelors|          13.0|     Never-married|   Prof-specialty|Not-in-family|White|  Male|        0.0|        0.0|        43.0|         Peru| <=50K|\n",
            "|  0.0|(95,[0,8,21,28,40...| 25|25.0|         Private|205947.0|   Bachelors|          13.0|Married-civ-spouse|   Prof-specialty|      Husband|White|  Male|        0.0|        0.0|        40.0|United-States| <=50K|\n",
            "+-----+--------------------+---+----+----------------+--------+------------+--------------+------------------+-----------------+-------------+-----+------+-----------+-----------+------------+-------------+------+\n",
            "only showing top 20 rows\n",
            "\n"
          ]
        }
      ]
    },
    {
      "cell_type": "markdown",
      "metadata": {
        "id": "QYcUtzrZd4kl"
      },
      "source": [
        "### **Step 10:** Split the data set into Train and Test data sets respectively"
      ]
    },
    {
      "cell_type": "code",
      "metadata": {
        "colab": {
          "base_uri": "https://localhost:8080/"
        },
        "id": "CpO22QnueBt1",
        "outputId": "3f42bd68-3ec6-4100-b6c1-479b424954b1"
      },
      "source": [
        "train, test = df.randomSplit([0.7, 0.3], seed = 12345)\n",
        "print(\"Training Dataset Count: \" + str(train.count()))\n",
        "print(\"Test Dataset Count: \" + str(test.count()))"
      ],
      "execution_count": 35,
      "outputs": [
        {
          "output_type": "stream",
          "name": "stdout",
          "text": [
            "Training Dataset Count: 31545\n",
            "Test Dataset Count: 13677\n"
          ]
        }
      ]
    },
    {
      "cell_type": "markdown",
      "metadata": {
        "id": "LA_uDEIIeV7S"
      },
      "source": [
        "### **Step 11**: Create a Logistic Regression Model"
      ]
    },
    {
      "cell_type": "code",
      "metadata": {
        "id": "l6QKdj9zeRwF"
      },
      "source": [
        "# Import `LinearRegression`\n",
        "from pyspark.ml.classification import LogisticRegression\n",
        "\n",
        "# Initialize `lr`\n",
        "lr = LogisticRegression(labelCol=\"label\",\n",
        "                        featuresCol=\"features\",\n",
        "                        maxIter=10,\n",
        "                        regParam=0.3)\n",
        "\n",
        "# Fit the data to the model\n",
        "linearModel = lr.fit(train)"
      ],
      "execution_count": 36,
      "outputs": []
    },
    {
      "cell_type": "markdown",
      "metadata": {
        "id": "coNnDdb-etHf"
      },
      "source": [
        "### **Step 12**: Make predictions on test data using the transform() method.\n"
      ]
    },
    {
      "cell_type": "code",
      "metadata": {
        "id": "SA2MTCXUezpy"
      },
      "source": [
        "predictions = linearModel.transform(test)"
      ],
      "execution_count": 37,
      "outputs": []
    },
    {
      "cell_type": "markdown",
      "metadata": {
        "id": "L2v-eOmjfKuu"
      },
      "source": [
        "### **Step 13**: Examine the elements in predictions object"
      ]
    },
    {
      "cell_type": "code",
      "metadata": {
        "colab": {
          "base_uri": "https://localhost:8080/"
        },
        "id": "vXRVKBiMfXHy",
        "outputId": "ca617fbb-e7db-4e45-8a0a-291e52daa292"
      },
      "source": [
        "predictions.printSchema()"
      ],
      "execution_count": 38,
      "outputs": [
        {
          "output_type": "stream",
          "name": "stdout",
          "text": [
            "root\n",
            " |-- label: double (nullable = false)\n",
            " |-- features: vector (nullable = true)\n",
            " |-- x: string (nullable = true)\n",
            " |-- age: float (nullable = true)\n",
            " |-- workclass: string (nullable = true)\n",
            " |-- fnlwgt: float (nullable = true)\n",
            " |-- education: string (nullable = true)\n",
            " |-- educationalNum: float (nullable = true)\n",
            " |-- maritalStatus: string (nullable = true)\n",
            " |-- occupation: string (nullable = true)\n",
            " |-- relationship: string (nullable = true)\n",
            " |-- race: string (nullable = true)\n",
            " |-- gender: string (nullable = true)\n",
            " |-- capitalGain: float (nullable = true)\n",
            " |-- capitalLoss: float (nullable = true)\n",
            " |-- hoursPerWeek: float (nullable = true)\n",
            " |-- nativeCountry: string (nullable = true)\n",
            " |-- income: string (nullable = true)\n",
            " |-- rawPrediction: vector (nullable = true)\n",
            " |-- probability: vector (nullable = true)\n",
            " |-- prediction: double (nullable = false)\n",
            "\n"
          ]
        }
      ]
    },
    {
      "cell_type": "markdown",
      "metadata": {
        "id": "J9fDEeEjfkiC"
      },
      "source": [
        "### **Step 14**: Investigate the predictions"
      ]
    },
    {
      "cell_type": "code",
      "metadata": {
        "colab": {
          "base_uri": "https://localhost:8080/"
        },
        "id": "l1FqMbqifq1a",
        "outputId": "074325e6-7070-4866-aea3-b2bd6696ad65"
      },
      "source": [
        "predictions.select( 'label', 'rawPrediction', 'prediction', 'probability').show(50)"
      ],
      "execution_count": 39,
      "outputs": [
        {
          "output_type": "stream",
          "name": "stdout",
          "text": [
            "+-----+--------------------+----------+--------------------+\n",
            "|label|       rawPrediction|prediction|         probability|\n",
            "+-----+--------------------+----------+--------------------+\n",
            "|  0.0|[0.86870439450838...|       0.0|[0.70447603795007...|\n",
            "|  0.0|[0.87205298562233...|       0.0|[0.70517270196544...|\n",
            "|  0.0|[0.50974157579245...|       0.0|[0.62474589184790...|\n",
            "|  0.0|[0.73040941057940...|       0.0|[0.67489510848530...|\n",
            "|  0.0|[0.77311698834401...|       0.0|[0.68419477488161...|\n",
            "|  0.0|[0.64718007958056...|       0.0|[0.65637471899290...|\n",
            "|  0.0|[0.69283267526089...|       0.0|[0.66659677293712...|\n",
            "|  0.0|[0.43145902500777...|       0.0|[0.60622201625957...|\n",
            "|  0.0|[0.22483821111194...|       0.0|[0.55597395058242...|\n",
            "|  0.0|[1.08790862076715...|       0.0|[0.74798769672425...|\n",
            "|  0.0|[1.14855316103718...|       0.0|[0.75924654668656...|\n",
            "|  0.0|[1.04917533488512...|       0.0|[0.74061650940406...|\n",
            "|  0.0|[1.02690321384842...|       0.0|[0.73631507891832...|\n",
            "|  0.0|[1.02756591265401...|       0.0|[0.73644372517506...|\n",
            "|  0.0|[1.02159220615720...|       0.0|[0.73528262587035...|\n",
            "|  0.0|[1.00091456501111...|       0.0|[0.73123835502237...|\n",
            "|  0.0|[1.08019928221857...|       0.0|[0.74653169379489...|\n",
            "|  0.0|[1.02859789719355...|       0.0|[0.73664397867789...|\n",
            "|  0.0|[1.00609962157010...|       0.0|[0.73225614549127...|\n",
            "|  0.0|[0.92317157477000...|       0.0|[0.71568789493746...|\n",
            "|  0.0|[1.00047282843531...|       0.0|[0.73115153218575...|\n",
            "|  0.0|[0.98250611461730...|       0.0|[0.72760520113644...|\n",
            "|  0.0|[1.00939442521199...|       0.0|[0.73290162055574...|\n",
            "|  0.0|[0.70841005084815...|       0.0|[0.67004974403256...|\n",
            "|  0.0|[1.00297780239011...|       0.0|[0.73164364712790...|\n",
            "|  0.0|[0.99945184105720...|       0.0|[0.73095079039112...|\n",
            "|  0.0|[0.99749506089899...|       0.0|[0.73056579274998...|\n",
            "|  0.0|[0.99711916729148...|       0.0|[0.73049179565977...|\n",
            "|  0.0|[1.04461253172094...|       0.0|[0.73973901618991...|\n",
            "|  0.0|[0.97867970731917...|       0.0|[0.72684616287571...|\n",
            "|  0.0|[0.97270596951746...|       0.0|[0.72565852622593...|\n",
            "|  0.0|[0.79656492271637...|       0.0|[0.68923920568749...|\n",
            "|  0.0|[0.99353328659102...|       0.0|[0.72978524744410...|\n",
            "|  0.0|[0.94005904140202...|       0.0|[0.71911158335018...|\n",
            "|  0.0|[0.97679384368993...|       0.0|[0.72647158183229...|\n",
            "|  0.0|[0.99695722696196...|       0.0|[0.73045991270512...|\n",
            "|  0.0|[0.98764088042450...|       0.0|[0.72862170030986...|\n",
            "|  0.0|[0.98576386674000...|       0.0|[0.72825039519055...|\n",
            "|  0.0|[0.98337549803996...|       0.0|[0.72777747524256...|\n",
            "|  0.0|[0.98133696904596...|       0.0|[0.72737341965845...|\n",
            "|  0.0|[0.88046243604653...|       0.0|[0.70691804003790...|\n",
            "|  0.0|[0.97431940732267...|       0.0|[0.72597960959605...|\n",
            "|  0.0|[0.95788732494043...|       0.0|[0.72269861305162...|\n",
            "|  0.0|[0.94612228925714...|       0.0|[0.72033467082312...|\n",
            "|  0.0|[0.98097450346744...|       0.0|[0.72730153632939...|\n",
            "|  0.0|[0.97067707650235...|       0.0|[0.72525443292630...|\n",
            "|  0.0|[0.91030394132222...|       0.0|[0.71306235452117...|\n",
            "|  0.0|[0.86933310128541...|       0.0|[0.70460691130220...|\n",
            "|  0.0|[0.96862136703709...|       0.0|[0.72484462173092...|\n",
            "|  0.0|[0.95987490239529...|       0.0|[0.72309675780070...|\n",
            "+-----+--------------------+----------+--------------------+\n",
            "only showing top 50 rows\n",
            "\n"
          ]
        }
      ]
    },
    {
      "cell_type": "markdown",
      "metadata": {
        "id": "AmVLs3yNf15r"
      },
      "source": [
        "### **Step 15**: Evaluate the predictions\n",
        "\n",
        "**Evaluating the Model** - Since the Logistic model at hand is a binary classification model (given that the outcome is 1 or 0), the BinaryClassificationEvaluator from the ***pyspark.ml.evaluation*** module will be utilized to evaluate the Logistic Regression Model.\n",
        "\n",
        "The BinaryClassificationEvaluator calculates the area under the ROC which is is one of the most important evaluation metrics for checking any classification model’s performance. It finds the best model by maximizing the model evaluation metric that is the area under the specified curve. The closer the area Under Curve is to one (1), the better the model is!\n",
        "\n",
        "For more details, check out: https://towardsdatascience.com/understanding-auc-roc-curve-68b2303cc9c5\n"
      ]
    },
    {
      "cell_type": "code",
      "metadata": {
        "colab": {
          "base_uri": "https://localhost:8080/"
        },
        "id": "h6Quw7Ssf8CS",
        "outputId": "c36da65a-b0be-45db-d4fa-dc576f1a6283"
      },
      "source": [
        "from pyspark.ml.evaluation import BinaryClassificationEvaluator\n",
        "\n",
        "evaluator = BinaryClassificationEvaluator(rawPredictionCol=\"rawPrediction\",labelCol=\"label\",metricName=\"areaUnderROC\")\n",
        "\n",
        "# Evaluate the predictions\n",
        "print(\"The area under ROC for test data set is {}\".format(evaluator.evaluate(predictions)))"
      ],
      "execution_count": 40,
      "outputs": [
        {
          "output_type": "stream",
          "name": "stdout",
          "text": [
            "The area under ROC for test data set is 0.8847519740170927\n"
          ]
        }
      ]
    },
    {
      "cell_type": "code",
      "source": [
        "# Found code to display ROC Curve here: https://stackoverflow.com/questions/52847408/pyspark-extract-roc-curve\n",
        "\n",
        "from pyspark.mllib.evaluation import BinaryClassificationMetrics\n",
        "\n",
        "class CurveMetrics(BinaryClassificationMetrics):\n",
        "    def __init__(self, *args):\n",
        "        super(CurveMetrics, self).__init__(*args)\n",
        "\n",
        "    def _to_list(self, rdd):\n",
        "        points = []\n",
        "        for row in rdd.collect():\n",
        "            points += [(float(row._1()), float(row._2()))]\n",
        "        return points\n",
        "\n",
        "    def get_curve(self, method):\n",
        "        rdd = getattr(self._java_model, method)().toJavaRDD()\n",
        "        return self._to_list(rdd)"
      ],
      "metadata": {
        "id": "6E_k60Rk4XSw"
      },
      "execution_count": 41,
      "outputs": []
    },
    {
      "cell_type": "code",
      "source": [
        "import matplotlib.pyplot as plt\n",
        "\n",
        "\n",
        "# Returns as a list (false positive rate, true positive rate)\n",
        "preds = predictions.select('label','probability').rdd.map(lambda row: (float(row['probability'][1]), float(row['label'])))\n",
        "points = CurveMetrics(preds).get_curve('roc')\n",
        "\n",
        "plt.figure()\n",
        "x_val = [x[0] for x in points]\n",
        "y_val = [x[1] for x in points]\n",
        "plt.title(\"ROC Curve - Logistic Regression\")\n",
        "#plt.xlabel(xlabel)\n",
        "#plt.ylabel(ylabel)\n",
        "plt.plot(x_val, y_val)"
      ],
      "metadata": {
        "colab": {
          "base_uri": "https://localhost:8080/",
          "height": 507
        },
        "id": "Fws44iIB9QaR",
        "outputId": "9a9246ad-e18d-4c85-8c8a-762860d19c90"
      },
      "execution_count": 42,
      "outputs": [
        {
          "output_type": "stream",
          "name": "stderr",
          "text": [
            "/content/spark-3.2.4-bin-hadoop3.2/python/pyspark/sql/context.py:125: FutureWarning: Deprecated in 3.0.0. Use SparkSession.builder.getOrCreate() instead.\n",
            "  warnings.warn(\n"
          ]
        },
        {
          "output_type": "execute_result",
          "data": {
            "text/plain": [
              "[<matplotlib.lines.Line2D at 0x7ffb6ed23af0>]"
            ]
          },
          "metadata": {},
          "execution_count": 42
        },
        {
          "output_type": "display_data",
          "data": {
            "text/plain": [
              "<Figure size 640x480 with 1 Axes>"
            ],
            "image/png": "[encoded data removed]"
          },
          "metadata": {}
        }
      ]
    },
    {
      "cell_type": "code",
      "source": [],
      "metadata": {
        "id": "noGL-xu_2UxX"
      },
      "execution_count": 42,
      "outputs": []
    },
    {
      "cell_type": "markdown",
      "source": [
        "### Create Confusion Matrix with PySpark:\n"
      ],
      "metadata": {
        "id": "s5ikcCtTKim4"
      }
    },
    {
      "cell_type": "code",
      "source": [
        "from pyspark.mllib.evaluation import MulticlassMetrics"
      ],
      "metadata": {
        "id": "CA01ROE7J_GK"
      },
      "execution_count": 43,
      "outputs": []
    },
    {
      "cell_type": "code",
      "source": [
        "#select only prediction and label columns\n",
        "preds_and_labels = predictions.select(['prediction','label'])"
      ],
      "metadata": {
        "id": "2Fs4EyhgHqhy"
      },
      "execution_count": 44,
      "outputs": []
    },
    {
      "cell_type": "code",
      "source": [
        "metrics = MulticlassMetrics(preds_and_labels.rdd.map(tuple))\n"
      ],
      "metadata": {
        "colab": {
          "base_uri": "https://localhost:8080/"
        },
        "id": "ACaf2aOkJZYX",
        "outputId": "9715385f-b21b-4469-d1b8-69b096676cd3"
      },
      "execution_count": 45,
      "outputs": [
        {
          "output_type": "stream",
          "name": "stderr",
          "text": [
            "/content/spark-3.2.4-bin-hadoop3.2/python/pyspark/sql/context.py:125: FutureWarning: Deprecated in 3.0.0. Use SparkSession.builder.getOrCreate() instead.\n",
            "  warnings.warn(\n"
          ]
        }
      ]
    },
    {
      "cell_type": "markdown",
      "source": [
        "* True Positive, False Positive\n",
        "* False Negative, True Negative"
      ],
      "metadata": {
        "id": "qWe9J7sjIKB0"
      }
    },
    {
      "cell_type": "code",
      "source": [
        "# Accuracy Score (TP + TN / All)\n",
        "print (metrics.accuracy)"
      ],
      "metadata": {
        "colab": {
          "base_uri": "https://localhost:8080/"
        },
        "id": "LieN4T8LFjyJ",
        "outputId": "7f882474-3ade-4665-c981-361806a7ef2e"
      },
      "execution_count": 46,
      "outputs": [
        {
          "output_type": "stream",
          "name": "stdout",
          "text": [
            "0.8125319880090663\n"
          ]
        }
      ]
    },
    {
      "cell_type": "code",
      "source": [
        "print(metrics.confusionMatrix().toArray())"
      ],
      "metadata": {
        "colab": {
          "base_uri": "https://localhost:8080/"
        },
        "id": "utjF1SNZBkrL",
        "outputId": "01e10bfa-375e-460e-b9e7-018819567006"
      },
      "execution_count": 47,
      "outputs": [
        {
          "output_type": "stream",
          "name": "stdout",
          "text": [
            "[[10022.   271.]\n",
            " [ 2293.  1091.]]\n"
          ]
        }
      ]
    },
    {
      "cell_type": "code",
      "source": [
        "# printing\n",
        "import sklearn\n",
        "\n",
        "y_true = predictions.select(['label']).collect()\n",
        "y_pred = predictions.select(['prediction']).collect()\n",
        "\n",
        "from sklearn.metrics import classification_report, confusion_matrix\n",
        "print(classification_report(y_true, y_pred))"
      ],
      "metadata": {
        "colab": {
          "base_uri": "https://localhost:8080/"
        },
        "id": "VFX6Ze8zPz9J",
        "outputId": "71d0483e-b849-447b-f272-6a919020c64b"
      },
      "execution_count": 48,
      "outputs": [
        {
          "output_type": "stream",
          "name": "stdout",
          "text": [
            "              precision    recall  f1-score   support\n",
            "\n",
            "         0.0       0.81      0.97      0.89     10293\n",
            "         1.0       0.80      0.32      0.46      3384\n",
            "\n",
            "    accuracy                           0.81     13677\n",
            "   macro avg       0.81      0.65      0.67     13677\n",
            "weighted avg       0.81      0.81      0.78     13677\n",
            "\n"
          ]
        }
      ]
    },
    {
      "cell_type": "markdown",
      "source": [
        "* **Precision**: Out of all the workers that the model predicted a salary > 50k, 80% actually did have a salary > 50k.\n",
        "\n",
        "* **Recall**: Out of all the workers with an actual salary > 50k,  the model only predicted this outcome correctly for 32% of those workers.\n",
        "\n",
        "* **F1-Score**: Overall, the model does a poor job of predicting if someone is making more than 50k."
      ],
      "metadata": {
        "id": "7yqAQjREMFE0"
      }
    },
    {
      "cell_type": "code",
      "source": [
        "sklearn.metrics.precision_score(y_true, y_pred)"
      ],
      "metadata": {
        "colab": {
          "base_uri": "https://localhost:8080/"
        },
        "id": "rQKC4526690p",
        "outputId": "8c8e6a02-2147-4003-c54a-686cfd01358f"
      },
      "execution_count": 49,
      "outputs": [
        {
          "output_type": "execute_result",
          "data": {
            "text/plain": [
              "0.8010279001468429"
            ]
          },
          "metadata": {},
          "execution_count": 49
        }
      ]
    },
    {
      "cell_type": "code",
      "source": [
        "sklearn.metrics.recall_score(y_true, y_pred)"
      ],
      "metadata": {
        "colab": {
          "base_uri": "https://localhost:8080/"
        },
        "id": "P_-BuzAc72oo",
        "outputId": "68e604a8-e8da-452d-b48a-554d3b541331"
      },
      "execution_count": 50,
      "outputs": [
        {
          "output_type": "execute_result",
          "data": {
            "text/plain": [
              "0.32239952718676124"
            ]
          },
          "metadata": {},
          "execution_count": 50
        }
      ]
    },
    {
      "cell_type": "code",
      "source": [
        "sklearn.metrics.median_absolute_error(y_true, y_pred)"
      ],
      "metadata": {
        "id": "Enw9nMr0MjsT",
        "colab": {
          "base_uri": "https://localhost:8080/"
        },
        "outputId": "4a912b2b-120c-4a0b-8501-057daf1cdd8e"
      },
      "execution_count": 51,
      "outputs": [
        {
          "output_type": "execute_result",
          "data": {
            "text/plain": [
              "0.0"
            ]
          },
          "metadata": {},
          "execution_count": 51
        }
      ]
    }
  ]
}